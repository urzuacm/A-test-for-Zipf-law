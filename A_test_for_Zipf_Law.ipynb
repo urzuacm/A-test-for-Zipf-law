{
  "nbformat": 4,
  "nbformat_minor": 0,
  "metadata": {
    "colab": {
      "provenance": []
    },
    "kernelspec": {
      "name": "python3",
      "display_name": "Python 3"
    },
    "language_info": {
      "name": "python"
    }
  },
  "cells": [
    {
      "cell_type": "markdown",
      "source": [
        "# **A test for Zipf Law**"
      ],
      "metadata": {
        "id": "Rw9QV60jduc-"
      }
    },
    {
      "cell_type": "markdown",
      "source": [
        "A test statistic for Zipf's law written both in Python and R"
      ],
      "metadata": {
        "id": "uzn-1LA8k8QR"
      }
    },
    {
      "cell_type": "markdown",
      "source": [
        "## **Author**\n",
        "Carlos M. Urzúa, urzuacarlosm@gmail.com"
      ],
      "metadata": {
        "id": "PfrThi4ad_0I"
      }
    },
    {
      "cell_type": "markdown",
      "source": [
        "# **Description**\n",
        "\n",
        "Given a vector *x* of positive real numbers, the statistic lmz proposed in Urzúa (2000) can be used to test for Zipf's law. Under the null hypothesis, **lmz** is asymptotically distributed as a chi-squared distribution with two degrees of freedom, and so the probability value can be estimated accordingly. But if the number of observations is less or equal than 30, it is suggested to use instead the critical values given in Table 1 of that paper.\n",
        "\n",
        "The vector *x* does not need to be ordered, and only the observations greater or equal than a given value of mu are used to compute the statistic. This is handy because Zipf's law is typically rejected when *mu* (>= minimum element of x) is not close to the right tail of the distribution. Contrast the two examples given in the last section of Urzúa (2000)."
      ],
      "metadata": {
        "id": "kWqlPJxgkfQn"
      }
    },
    {
      "cell_type": "markdown",
      "source": [
        "# **Syntax**\n",
        "\n",
        "The call function is simply `lmz(x,mu)` in the case of, both, the Python script lmz.py and the R program lmz.R included in this repository.\n"
      ],
      "metadata": {
        "id": "NtuiMgtid2xE"
      }
    },
    {
      "cell_type": "markdown",
      "source": [
        "# **Notes**\n",
        "\n",
        "* It is not advisable to test for Zipf's law by means of a regression (Urzúa, 2011).\n",
        "\n",
        "* In a diverse number of disciplines, from Linguistics to Geography, it is not uncommon to test for Zipf's law. It is worth noticing, however, that such a law is a limit case among the distributions that exhibit a power-law behavior. To test for that behavior one could use the pwlaw statistic proposed in Urzúa (2020). The repository https://github.com/urzuacarlosm/A-test-for-power-law contains the Python and R codes\n"
      ],
      "metadata": {
        "id": "Ju2jnVcaeDXW"
      }
    },
    {
      "cell_type": "markdown",
      "source": [
        "# The following code is written in Python"
      ],
      "metadata": {
        "id": "8jQkb_uVeZgh"
      }
    },
    {
      "cell_type": "code",
      "source": [
        "import numpy as np\n",
        "import statistics as st\n",
        "import scipy.stats as stats\n",
        "import pandas as pd\n",
        "\n",
        "def lmztest(x):\n",
        "    xn = x.values[-1]\n",
        "    n = len(x)\n",
        "    z1 = 1 - np.mean(np.log(x / xn ))\n",
        "    z2 = 0.5 - np.mean(xn / x)\n",
        "    lmz = 4 * n * (z1 ** 2 + 6 * (z1 * z2) + 12 * (z2 ** 2))\n",
        "    p_value = 1 - stats.chi2.cdf (lmz, df=2)\n",
        "    return lmz, p_value"
      ],
      "metadata": {
        "id": "CFMT-T5td2BP"
      },
      "execution_count": null,
      "outputs": []
    },
    {
      "cell_type": "markdown",
      "source": [
        "In order to check that the program is well written, you can use the following example:\n",
        "\n",
        "Consider the US metropolitan areas that, in 1991 population of 250,000 or more inhabitants (US Bureau of the Census, 1993, Table 42). For this data set, 135 areas in total, Krugman (1996), p.40 and Gabaix (1998). Both authors claim that Zipf's law holds almost perfectly in this case. You can find the data in the following link: (link).\n",
        "The results of this particular data are:\n",
        "\n",
        "`lmz test result: (3.1592115995128527, 0.20605630964449895)`"
      ],
      "metadata": {
        "id": "ZFdB2kTMenVb"
      }
    },
    {
      "cell_type": "code",
      "source": [
        "import lmz as lmz_t\n",
        "import pandas as pd\n",
        "\n",
        "x = pd.read_excel(\"MET.xlsx\", header = None)\n",
        "lmztest_result = lmz_t.lmztest(x)\n",
        "print(\"lmz test result:\", lmztest_result)"
      ],
      "metadata": {
        "id": "X_4JvdJ7ey1G"
      },
      "execution_count": null,
      "outputs": []
    },
    {
      "cell_type": "markdown",
      "source": [
        "# The following code is written in R"
      ],
      "metadata": {
        "id": "LRvE0_Voe413"
      }
    },
    {
      "cell_type": "code",
      "source": [
        "lmztest = function(x) {\n",
        "  xn <- tail(x, n = 1)\n",
        "  n <- length (x)\n",
        "  z1 <- 1 - mean(log(x / xn))\n",
        "  z2 <- 0.5 - mean(xn / x)\n",
        "  lmz <- 4 * n * (z1 ^ 2 + 6 * (z1 * z2) + 12 * (z2 ^ 2))\n",
        "  p_value = 1 - pchisq(lmz, df = 2)\n",
        "  return(c(lmz, p_value))\n",
        "}"
      ],
      "metadata": {
        "id": "c4ZZ8eZDe9xe"
      },
      "execution_count": null,
      "outputs": []
    },
    {
      "cell_type": "markdown",
      "source": [
        "In order to check that the program is well written, you can use the following example:\n",
        "\n",
        "Consider the US metropolitan areas that, in 1991 population of 250,000 or more inhabitants (US Bureau of the Census, 1993, Table 42). For this data set, 135 areas in total, Krugman (1996), p.40 and Gabaix (1998). Both authors claim that Zipf's law holds almost perfectly in this case. You can find the data in the following link: (link).\n",
        "The results of this particular data are:\n",
        "\n",
        "`lmz test result: (3.1592116 0.2060563)`"
      ],
      "metadata": {
        "id": "QSxpIBqafELv"
      }
    },
    {
      "cell_type": "code",
      "source": [
        "install.packages(\"readxl\")\n",
        "lmztest(x, mu)\n",
        "library(readxl)\n",
        "x <- as.matrix(read_excel(\"1M.xlsx\", col_names = FALSE, n_max = 200))\n",
        "mu <- 1\n",
        "lmztest(x, mu)"
      ],
      "metadata": {
        "id": "iWSkTMeBfMxi"
      },
      "execution_count": null,
      "outputs": []
    },
    {
      "cell_type": "markdown",
      "source": [
        "# **Bibliography**\n",
        "\n",
        "* Gabaix, X., 1998. Zipf's law for cities: an explanation. Forthcoming in Quaterly Journal of Economics\n",
        "* Krugman, P., 1996. The Self-prgamazing Economy, Blackwell, Oxford\n",
        "* Urzúa, C. M. 2000. A simple and efficient test for Zipf's law. Economics Letters, vol. 66, pp. 257-260.\n",
        "\n",
        "* Urzúa, C. M. 2011. Testing for Zipf's law: A common pitfall. Economics Letters, vol. 112, pp. 254-255.\n",
        "\n",
        "* Urzúa, C. M. 2020. A simple test for power-law behavior. Stata Journal, vol. 20, no. 3, pp. 604-612\n"
      ],
      "metadata": {
        "id": "e49czIRufPXs"
      }
    }
  ]
}